{
 "cells": [
  {
   "cell_type": "code",
   "execution_count": 4,
   "metadata": {},
   "outputs": [],
   "source": [
    "import os\n",
    "from pyspark.sql import SparkSession\n",
    "from pyspark.sql.functions import col\n"
   ]
  },
  {
   "cell_type": "code",
   "execution_count": 5,
   "metadata": {},
   "outputs": [],
   "source": [
    "# initialize spark session\n",
    "spark = SparkSession.builder \\\n",
    "    .appName(\"Car Price Analysis\") \\\n",
    "    .config(\"spark.driver.memory\", \"4g\") \\\n",
    "    .getOrCreate()"
   ]
  },
  {
   "cell_type": "code",
   "execution_count": 6,
   "metadata": {},
   "outputs": [],
   "source": [
    "# define paths\n",
    "input_path = r\"C:/Users/acdsa/Desktop/BDA/lab2/Lab2/lab4/car_price_dataset.csv\"\n",
    "output_csv = r\"C:/Users/acdsa/Desktop/BDA/lab2/Lab2/lab4/filtered_car_prices.csv\"\n",
    "output_json = r\"C:/Users/acdsa/Desktop/BDA/lab2/Lab2/lab4/top_brands.json\"\n",
    "output_txt = r\"C:/Users/acdsa/Desktop/BDA/lab2/Lab2/lab4/summary.txt\""
   ]
  },
  {
   "cell_type": "code",
   "execution_count": 7,
   "metadata": {},
   "outputs": [],
   "source": [
    "# delete old output files\n",
    "for path in [output_csv, output_json, output_txt]:\n",
    "    if os.path.exists(path):\n",
    "        try:\n",
    "            os.remove(path)\n",
    "        except PermissionError:\n",
    "            print(f\"Warning: Cannot delete {path}. It may be open in another program.\")"
   ]
  },
  {
   "cell_type": "code",
   "execution_count": 8,
   "metadata": {},
   "outputs": [],
   "source": [
    "\n",
    "# load dataset\n",
    "df = spark.read.csv(input_path, header=True, inferSchema=True)"
   ]
  },
  {
   "cell_type": "code",
   "execution_count": 9,
   "metadata": {},
   "outputs": [],
   "source": [
    "# preprocessing\n",
    "df = df.select(\n",
    "    col(\"Brand\").alias(\"brand\"),\n",
    "    col(\"Model\").alias(\"model\"),\n",
    "    col(\"Year\").alias(\"year\"),\n",
    "    col(\"Price\").alias(\"price\"),\n",
    "    col(\"Mileage\").alias(\"mileage\"),\n",
    "    col(\"Fuel_Type\").alias(\"fuel_type\"),\n",
    "    col(\"Transmission\").alias(\"transmission\")\n",
    ").dropna()\n",
    "\n",
    "df = df.withColumn(\"year\", col(\"year\").cast(\"int\"))\n"
   ]
  },
  {
   "cell_type": "code",
   "execution_count": 10,
   "metadata": {},
   "outputs": [],
   "source": [
    "# filtering\n",
    "filtered_df = df.filter(col(\"price\") > 5000)\n",
    "\n",
    "# SQL Queries\n",
    "df.createOrReplaceTempView(\"car_data\")"
   ]
  },
  {
   "cell_type": "code",
   "execution_count": 11,
   "metadata": {},
   "outputs": [],
   "source": [
    "# extract top 5 most Frequent Car Brands\n",
    "top_brands = spark.sql(\"\"\"\n",
    "    SELECT brand, COUNT(*) as count \n",
    "    FROM car_data \n",
    "    GROUP BY brand \n",
    "    ORDER BY count DESC \n",
    "    LIMIT 5\n",
    "\"\"\")"
   ]
  },
  {
   "cell_type": "code",
   "execution_count": 12,
   "metadata": {},
   "outputs": [],
   "source": [
    "# average price per brand\n",
    "avg_price_per_brand = spark.sql(\"\"\"\n",
    "    SELECT brand, AVG(price) as avg_price \n",
    "    FROM car_data \n",
    "    GROUP BY brand \n",
    "    ORDER BY avg_price DESC\n",
    "\"\"\")"
   ]
  },
  {
   "cell_type": "code",
   "execution_count": 13,
   "metadata": {},
   "outputs": [
    {
     "name": "stdout",
     "output_type": "stream",
     "text": [
      " CSV saved: C:/Users/acdsa/Desktop/BDA/lab2/Lab2/lab4/filtered_car_prices.csv\n"
     ]
    }
   ],
   "source": [
    "# save results as CSV file\n",
    "try:\n",
    "    filtered_df.toPandas().to_csv(output_csv, index=False)\n",
    "    print(f\" CSV saved: {output_csv}\")\n",
    "except Exception as e:\n",
    "    print(f\" Error saving CSV: {e}\")"
   ]
  },
  {
   "cell_type": "code",
   "execution_count": 14,
   "metadata": {},
   "outputs": [
    {
     "name": "stdout",
     "output_type": "stream",
     "text": [
      " JSON saved: C:/Users/acdsa/Desktop/BDA/lab2/Lab2/lab4/top_brands.json\n"
     ]
    }
   ],
   "source": [
    "# save SQL Query results as JSON\n",
    "try:\n",
    "    top_brands_pd = top_brands.toPandas() \n",
    "    top_brands_pd.to_json(output_json, orient=\"records\", indent=4)\n",
    "    print(f\" JSON saved: {output_json}\")\n",
    "except Exception as e:\n",
    "    print(f\" Error saving JSON: {e}\")"
   ]
  },
  {
   "cell_type": "code",
   "execution_count": 15,
   "metadata": {},
   "outputs": [
    {
     "name": "stdout",
     "output_type": "stream",
     "text": [
      " TXT Summary saved: C:/Users/acdsa/Desktop/BDA/lab2/Lab2/lab4/summary.txt\n"
     ]
    }
   ],
   "source": [
    "# save summary as TXT\n",
    "try:\n",
    "    with open(output_txt, \"w\", encoding=\"utf-8\") as f:\n",
    "        f.write(\"Lab 4 Analysis - Car Data\\n\\n\")\n",
    "        f.write(\"- Top 5 Most Frequent Car Brands:\\n\")\n",
    "        for row in top_brands.collect():\n",
    "            f.write(f\"{row['brand']}: {row['count']} listings\\n\")\n",
    "        f.write(\"\\n- Average Price Per Brand:\\n\")\n",
    "        for row in avg_price_per_brand.collect():\n",
    "            f.write(f\"{row['brand']}: ${round(row['avg_price'], 2)}\\n\")\n",
    "    print(f\" TXT Summary saved: {output_txt}\")\n",
    "except Exception as e:\n",
    "    print(f\" Error saving TXT: {e}\")"
   ]
  },
  {
   "cell_type": "code",
   "execution_count": 16,
   "metadata": {},
   "outputs": [],
   "source": [
    "spark.stop()"
   ]
  }
 ],
 "metadata": {
  "kernelspec": {
   "display_name": "base",
   "language": "python",
   "name": "python3"
  },
  "language_info": {
   "codemirror_mode": {
    "name": "ipython",
    "version": 3
   },
   "file_extension": ".py",
   "mimetype": "text/x-python",
   "name": "python",
   "nbconvert_exporter": "python",
   "pygments_lexer": "ipython3",
   "version": "3.12.7"
  }
 },
 "nbformat": 4,
 "nbformat_minor": 2
}
