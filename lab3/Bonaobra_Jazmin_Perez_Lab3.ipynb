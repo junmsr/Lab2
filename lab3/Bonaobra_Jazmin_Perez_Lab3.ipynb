{
 "cells": [
  {
   "cell_type": "code",
   "execution_count": 2,
   "metadata": {},
   "outputs": [
    {
     "name": "stdout",
     "output_type": "stream",
     "text": [
      "Original Dataset:\n",
      "+----------+------+----+-----------+---------+--------------+-------+-----+-----------+-----+\n",
      "|     Brand| Model|Year|Engine_Size|Fuel_Type|  Transmission|Mileage|Doors|Owner_Count|Price|\n",
      "+----------+------+----+-----------+---------+--------------+-------+-----+-----------+-----+\n",
      "|       Kia|   Rio|2020|        4.2|   Diesel|        Manual| 289944|    3|          5| 8501|\n",
      "| Chevrolet|Malibu|2012|        2.0|   Hybrid|     Automatic|   5356|    2|          3|12092|\n",
      "|  Mercedes|   GLA|2020|        4.2|   Diesel|     Automatic| 231440|    4|          2|11171|\n",
      "|      Audi|    Q5|2023|        2.0| Electric|        Manual| 160971|    2|          1|11780|\n",
      "|Volkswagen|  Golf|2003|        2.6|   Hybrid|Semi-Automatic| 286618|    3|          3| 2867|\n",
      "+----------+------+----+-----------+---------+--------------+-------+-----+-----------+-----+\n",
      "only showing top 5 rows\n",
      "\n"
     ]
    }
   ],
   "source": [
    "from pyspark.sql import SparkSession\n",
    "from pyspark.sql.functions import col, avg, regexp_replace, when\n",
    "\n",
    "spark = SparkSession.builder.appName(\"CarDataProcessing\").getOrCreate()\n",
    "\n",
    "file_path = r\"C:/Users/acdsa/Desktop/BDA/lab2/Lab2/lab3/car_price_dataset.csv\"\n",
    "df = spark.read.csv(file_path, header=True, inferSchema=True)\n",
    "\n",
    "print(\"Original Dataset:\")\n",
    "df.show(5)"
   ]
  },
  {
   "cell_type": "code",
   "execution_count": 3,
   "metadata": {},
   "outputs": [],
   "source": [
    "df_cleaned = df.dropDuplicates()\n",
    "\n",
    "df_cleaned = df_cleaned.withColumn(\"price\", regexp_replace(col(\"price\"), \"[^0-9.]\", \"\"))\n",
    "df_cleaned = df_cleaned.withColumn(\"year\", regexp_replace(col(\"year\"), \"[^0-9]\", \"\"))\n",
    "\n",
    "df_cleaned = df_cleaned.withColumn(\"price\", when(col(\"price\") == \"\", \"0\").otherwise(col(\"price\")))\n",
    "df_cleaned = df_cleaned.withColumn(\"year\", when(col(\"year\") == \"\", \"0\").otherwise(col(\"year\")))\n",
    "\n",
    "# Corrected the typo to use 'fillna' instead of 'fillNa'\n",
    "df_cleaned = df_cleaned.fillna({\"price\": \"0\", \"brand\": \"Unknown\", \"year\": \"0\"})\n",
    "\n",
    "df_cleaned = df_cleaned.withColumn(\"price\", col(\"price\").cast(\"float\"))\n",
    "df_cleaned = df_cleaned.withColumn(\"year\", col(\"year\").cast(\"int\"))"
   ]
  },
  {
   "cell_type": "code",
   "execution_count": 4,
   "metadata": {},
   "outputs": [
    {
     "name": "stdout",
     "output_type": "stream",
     "text": [
      "Cleaned and Filtered Dataset:\n",
      "+----------+------+----+-----------+---------+------------+-------+-----+-----------+-------+\n",
      "|     Brand| Model|year|Engine_Size|Fuel_Type|Transmission|Mileage|Doors|Owner_Count|  price|\n",
      "+----------+------+----+-----------+---------+------------+-------+-----+-----------+-------+\n",
      "| Chevrolet|Impala|2013|        4.8|   Petrol|      Manual| 206381|    4|          4| 8672.0|\n",
      "|    Toyota| Camry|2023|        1.5|   Diesel|      Manual| 117049|    2|          5|10159.0|\n",
      "|      Audi|    A3|2005|        2.3| Electric|      Manual| 112828|    3|          2| 7643.0|\n",
      "|Volkswagen|Passat|2007|        3.0| Electric|      Manual| 272439|    3|          3| 5751.0|\n",
      "|Volkswagen|  Golf|2010|        2.9| Electric|      Manual| 249910|    5|          3| 7001.0|\n",
      "+----------+------+----+-----------+---------+------------+-------+-----+-----------+-------+\n",
      "only showing top 5 rows\n",
      "\n"
     ]
    }
   ],
   "source": [
    "df_filtered = df_cleaned.filter(col(\"price\") > 5000)\n",
    "\n",
    "print(\"Cleaned and Filtered Dataset:\")\n",
    "df_filtered.show(5)"
   ]
  },
  {
   "cell_type": "code",
   "execution_count": 5,
   "metadata": {},
   "outputs": [
    {
     "name": "stdout",
     "output_type": "stream",
     "text": [
      "Average Price by Brand:\n",
      "+----------+-----------------+\n",
      "|     brand|    Average_Price|\n",
      "+----------+-----------------+\n",
      "|Volkswagen|9610.589800443458|\n",
      "|       Kia|9483.450285714285|\n",
      "| Chevrolet|9649.525139664804|\n",
      "|   Hyundai|9502.603686635945|\n",
      "|     Honda|9349.710585585586|\n",
      "|      Audi|9682.598233995584|\n",
      "|  Mercedes|9653.273053892215|\n",
      "|       BMW|9459.895402298851|\n",
      "|    Toyota|  9585.8138424821|\n",
      "|      Ford|9528.752155172413|\n",
      "+----------+-----------------+\n",
      "\n"
     ]
    }
   ],
   "source": [
    "df_grouped = df_filtered.groupBy(\"brand\").agg(avg(\"price\").alias(\"Average_Price\"))\n",
    "\n",
    "print(\"Average Price by Brand:\")\n",
    "df_grouped.show()"
   ]
  },
  {
   "cell_type": "code",
   "execution_count": 7,
   "metadata": {},
   "outputs": [
    {
     "name": "stdout",
     "output_type": "stream",
     "text": [
      "Saved file path: C:/Users/acdsa/Desktop/BDA/lab2/Lab2/lab3/car_price_output.csv\n"
     ]
    }
   ],
   "source": [
    "output_path = r\"C:/Users/acdsa/Desktop/BDA/lab2/Lab2/lab3/car_price_output.csv\"\n",
    "\n",
    "# Convert to Pandas and save as a single CSV\n",
    "df_grouped.toPandas().to_csv(output_path, index=False)\n",
    "\n",
    "print(f\"Saved file path: {output_path}\")\n"
   ]
  }
 ],
 "metadata": {
  "kernelspec": {
   "display_name": "base",
   "language": "python",
   "name": "python3"
  },
  "language_info": {
   "codemirror_mode": {
    "name": "ipython",
    "version": 3
   },
   "file_extension": ".py",
   "mimetype": "text/x-python",
   "name": "python",
   "nbconvert_exporter": "python",
   "pygments_lexer": "ipython3",
   "version": "3.12.7"
  }
 },
 "nbformat": 4,
 "nbformat_minor": 2
}
